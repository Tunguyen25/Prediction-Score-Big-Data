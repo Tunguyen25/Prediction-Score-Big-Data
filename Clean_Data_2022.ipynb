{
 "cells": [
  {
   "cell_type": "code",
   "execution_count": 2,
   "id": "41e43b0f-fff3-4393-af8f-951eae04ba85",
   "metadata": {},
   "outputs": [],
   "source": [
    "import pandas as pd"
   ]
  },
  {
   "cell_type": "code",
   "execution_count": 4,
   "id": "e90779e1-d1dd-4394-bbce-2e8c6a5cae93",
   "metadata": {},
   "outputs": [],
   "source": [
    "file = 'ThiTNTHPT2022.xlsx'\n",
    "THPT2022 = pd.read_excel(file)"
   ]
  },
  {
   "cell_type": "code",
   "execution_count": 27,
   "id": "42868833-8646-4827-b4d1-a53eeae6576d",
   "metadata": {},
   "outputs": [],
   "source": [
    "# chon column minh muon\n",
    "mon_tot_nghiep = ['sbd', 'toan', 'ngu_van', 'ngoai_ngu']\n",
    "mon_khac = ['vat_li', 'hoa_hoc', 'sinh_hoc', 'lich_su', 'dia_li', 'gdcd']\n",
    "\n",
    "# Filter the DataFrame to include only students with scores in Math, Vietnamese, and English\n",
    "# and no scores in the other subjects\n",
    "filtered_totnghiep_2022 = THPT2022[(THPT2022['toan'].notna()) & \n",
    "                 (THPT2022['ngu_van'].notna()) & \n",
    "                 (THPT2022['ngoai_ngu'].isna() | THPT2022['ngoai_ngu'].notna()) &\n",
    "                 THPT2022[mon_khac].isna().all(axis=1)]\n",
    "\n",
    "# Create a new Excel writer object\n",
    "# with pd.ExcelWriter(file, engine='openpyxl', mode='a') as writer:\n",
    "#     filtered_totnghiep_2022.to_excel(writer, sheet_name='tot_nghiep', index=False)\n",
    "with pd.ExcelWriter('ThiTNTHPT2022_tn.xlsx', engine='openpyxl') as writer:\n",
    "    filtered_totnghiep_2022.to_excel(writer, sheet_name='khxh', index=False)"
   ]
  },
  {
   "cell_type": "code",
   "execution_count": 23,
   "id": "25e2dcfa-0a3b-4d60-acd3-2d46d7916ae4",
   "metadata": {},
   "outputs": [],
   "source": [
    "# chon column minh muon\n",
    "khtn = ['sbd', 'toan', 'ngu_van','ngoai_ngu','vat_li', 'hoa_hoc', 'sinh_hoc']\n",
    "mon_khac1 = ['lich_su', 'dia_li', 'gdcd']\n",
    "\n",
    "\n",
    "filtered_KHTN_2022 = THPT2022[(THPT2022['toan'].notna()) & \n",
    "                 (THPT2022['ngu_van'].notna()) & \n",
    "                 (THPT2022['vat_li'].notna()) & \n",
    "                 (THPT2022['hoa_hoc'].notna()) & \n",
    "                 (THPT2022['sinh_hoc'].notna()) &\n",
    "                 (THPT2022['ngoai_ngu'].isna() | THPT2022['ngoai_ngu'].notna()) &\n",
    "                 THPT2022[mon_khac1].isna().all(axis=1)]\n",
    "\n",
    "# Create a new Excel writer object\n",
    "# with pd.ExcelWriter(file, engine='openpyxl', mode='a') as writer:\n",
    "#     filtered_KHTN_2022.to_excel(writer, sheet_name='khtn', index=False)\n",
    "with pd.ExcelWriter('ThiTNTHPT2022_khtn.xlsx', engine='openpyxl') as writer:\n",
    "    filtered_KHTN_2022.to_excel(writer, sheet_name='khxh', index=False)\n",
    "    "
   ]
  },
  {
   "cell_type": "code",
   "execution_count": 21,
   "id": "3ccd8319-f488-4da0-a313-22d616f5257f",
   "metadata": {},
   "outputs": [],
   "source": [
    "# chon column minh muon\n",
    "khxh = ['sbd', 'toan', 'ngu_van','ngoai_ngu','lich_su', 'dia_li', 'gdcd']\n",
    "mon_khac2 = ['vat_li', 'hoa_hoc', 'sinh_hoc']\n",
    "\n",
    "filtered_KHXH_2022 = THPT2022[(THPT2022['toan'].notna()) & \n",
    "                 (THPT2022['ngu_van'].notna()) & \n",
    "                 (THPT2022['lich_su'].notna()) & \n",
    "                 (THPT2022['dia_li'].notna()) & \n",
    "                 (THPT2022['gdcd'].notna()) &\n",
    "                 (THPT2022['ngoai_ngu'].isna() | THPT2022['ngoai_ngu'].notna()) &\n",
    "                 THPT2022[mon_khac2].isna().all(axis=1)]\n",
    "\n",
    "# Create a new Excel writer object\n",
    "# with pd.ExcelWriter(file, engine='openpyxl', mode='a') as writer:\n",
    "#     filtered_KHXH_2022.to_excel(writer, sheet_name='khxh', index=False)\n",
    "# Create a new Excel writer object\n",
    "with pd.ExcelWriter('ThiTNTHPT2022_khxh.xlsx', engine='openpyxl') as writer:\n",
    "    filtered_KHXH_2022.to_excel(writer, sheet_name='khxh', index=False)"
   ]
  },
  {
   "cell_type": "code",
   "execution_count": null,
   "id": "55e87d78-be23-40c2-b975-55913610d17a",
   "metadata": {},
   "outputs": [],
   "source": []
  }
 ],
 "metadata": {
  "kernelspec": {
   "display_name": "Python 3 (ipykernel)",
   "language": "python",
   "name": "python3"
  },
  "language_info": {
   "codemirror_mode": {
    "name": "ipython",
    "version": 3
   },
   "file_extension": ".py",
   "mimetype": "text/x-python",
   "name": "python",
   "nbconvert_exporter": "python",
   "pygments_lexer": "ipython3",
   "version": "3.12.4"
  }
 },
 "nbformat": 4,
 "nbformat_minor": 5
}
