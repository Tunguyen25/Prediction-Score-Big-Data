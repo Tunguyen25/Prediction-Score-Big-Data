{
 "cells": [
  {
   "cell_type": "code",
   "execution_count": 2,
   "id": "376f61ac-2a4a-42cc-967e-7d8e33ae70f1",
   "metadata": {},
   "outputs": [],
   "source": [
    "import pandas as pd\n",
    "import numpy as np"
   ]
  },
  {
   "cell_type": "code",
   "execution_count": 44,
   "id": "c09737af-1d7c-45bc-9bb7-bf0e5371049f",
   "metadata": {},
   "outputs": [],
   "source": [
    "file_path1 = 'ThiTNTHPT2021.xlsx'\n",
    "THPT2021 = pd.read_excel(file_path1)\n",
    "THPT2021.replace('', np.nan, inplace=True)\n",
    "THPT2021['vat_li'] = pd.to_numeric(THPT2021['vat_li'], errors='coerce')\n",
    "THPT2021['toan'] = pd.to_numeric(THPT2021['toan'], errors='coerce')\n",
    "THPT2021['ngu_van'] = pd.to_numeric(THPT2021['ngu_van'], errors='coerce')\n",
    "THPT2021['ngoai_ngu'] = pd.to_numeric(THPT2021['ngoai_ngu'], errors='coerce')\n",
    "THPT2021['hoa_hoc'] = pd.to_numeric(THPT2021['hoa_hoc'], errors='coerce')\n",
    "THPT2021['sinh_hoc'] = pd.to_numeric(THPT2021['sinh_hoc'], errors='coerce')\n",
    "THPT2021['lich_su'] = pd.to_numeric(THPT2021['lich_su'], errors='coerce')\n",
    "THPT2021['dia_li'] = pd.to_numeric(THPT2021['dia_li'], errors='coerce')\n",
    "THPT2021['gdcd'] = pd.to_numeric(THPT2021['gdcd'], errors='coerce')\n",
    "# chon column minh muon\n",
    "mon_tot_nghiep = ['sbd', 'toan', 'ngu_van', 'ngoai_ngu']\n",
    "mon_khac = ['vat_li', 'hoa_hoc', 'sinh_hoc', 'lich_su', 'dia_li', 'gdcd']\n",
    "\n",
    "# Lọc những thí sinh có điểm ở môn Toán và Ngữ Văn, môn Ngoại Ngữ có hoặc không có, và các môn khác đều trống\n",
    "filtered_totnghiep_2021 = THPT2021[\n",
    "    (THPT2021['toan'].notna()) & \n",
    "    (THPT2021['ngu_van'].notna()) &\n",
    "    (THPT2021['ngoai_ngu'].isna() | THPT2021['ngoai_ngu'].notna()) &\n",
    "    (THPT2021[['vat_li', 'hoa_hoc', 'sinh_hoc', 'lich_su', 'dia_li', 'gdcd']].isna().all(axis=1))]\n",
    "\n",
    "# Tạo một đối tượng ExcelWriter mới để lưu kết quả\n",
    "with pd.ExcelWriter(file_path1, engine='openpyxl', mode='a') as writer:\n",
    "    filtered_totnghiep_2021.to_excel(writer, sheet_name='tot_nghiep', index=False)"
   ]
  },
  {
   "cell_type": "code",
   "execution_count": 68,
   "id": "752cd4b7-bb5b-416f-8342-8cfa1ed72414",
   "metadata": {},
   "outputs": [],
   "source": [
    "# chon column minh muon\n",
    "khtn = ['sbd', 'toan', 'vat_li', 'hoa_hoc', 'sinh_hoc', 'ngu_van', 'ngoai_ngu']\n",
    "mon_khac2 = ['lich_su', 'dia_li', 'gdcd']\n",
    "\n",
    "filtered_KHTN_2021 = THPT2021[(THPT2021['toan'].notna()) & \n",
    "                 (THPT2021['vat_li'].notna()) & \n",
    "                 (THPT2021['hoa_hoc'].notna()) & \n",
    "                 (THPT2021['sinh_hoc'].notna()) &\n",
    "                 (THPT2021['ngu_van'].notna()) & \n",
    "                 (THPT2021['ngoai_ngu'].isna() | THPT2021['ngoai_ngu'].notna()) &\n",
    "                 (THPT2021[mon_khac2].isna().all(axis=1))]\n",
    "\n",
    "Create a new Excel writer object\n",
    "with pd.ExcelWriter(file_path1, engine='openpyxl', mode='a') as writer:\n",
    "    filtered_KHTN_2021.to_excel(writer, sheet_name='khtn', index=False)\n",
    "\n",
    "# with pd.ExcelWriter('ThiTNTHPT2021_khtn.xlsx', engine='openpyxl') as writer:\n",
    "#     filtered_KHTN_2021.to_excel(writer, sheet_name='khtn', index=False)"
   ]
  },
  {
   "cell_type": "code",
   "execution_count": 72,
   "id": "ae73cd7b-11b4-479f-9e9d-1e1ccd7dd2cc",
   "metadata": {},
   "outputs": [],
   "source": [
    "# chon column minh muon\n",
    "khxh = ['sbd', 'toan', 'lich_su', 'dia_li', 'gdcd', 'ngu_van', 'ngoai_ngu']\n",
    "mon_khac3 = ['vat_li', 'hoa_hoc', 'sinh_hoc']\n",
    "\n",
    "\n",
    "filtered_KHXH_2021 = THPT2021[(THPT2021['toan'].notna()) & \n",
    "                 (THPT2021['lich_su'].notna()) & \n",
    "                 (THPT2021['dia_li'].notna()) & \n",
    "                 (THPT2021['gdcd'].notna()) &\n",
    "                 (THPT2021['ngoai_ngu'].isna() | THPT2021['ngoai_ngu'].notna()) &\n",
    "                 (THPT2021['ngu_van'].notna()) & \n",
    "                 (THPT2021[mon_khac3].isna().all(axis=1))]\n",
    "\n",
    "\n",
    "Create a new Excel writer object\n",
    "with pd.ExcelWriter(file_path1, engine='openpyxl', mode='a') as writer:\n",
    "    filtered_KHXH_2021.to_excel(writer, sheet_name='khtn', index=False)\n",
    "\n",
    "# # Create a new Excel writer object\n",
    "# with pd.ExcelWriter('ThiTNTHPT2021_khxh.xlsx', engine='openpyxl') as writer:\n",
    "#     filtered_KHXH_2021.to_excel(writer, sheet_name='khxh', index=False)"
   ]
  },
  {
   "cell_type": "code",
   "execution_count": 6,
   "id": "a4a36b2e-3126-42a9-b2f8-cc91611e063d",
   "metadata": {},
   "outputs": [],
   "source": [
    "file_path1 = 'ThiTNTHPT2021.xlsx'\n",
    "THPT2021 = pd.read_excel(file_path1)\n",
    "THPT2021.replace('', np.nan, inplace=True)\n",
    "THPT2021['vat_li'] = pd.to_numeric(THPT2021['vat_li'], errors='coerce')\n",
    "THPT2021['toan'] = pd.to_numeric(THPT2021['toan'], errors='coerce')\n",
    "THPT2021['ngu_van'] = pd.to_numeric(THPT2021['ngu_van'], errors='coerce')\n",
    "THPT2021['ngoai_ngu'] = pd.to_numeric(THPT2021['ngoai_ngu'], errors='coerce')\n",
    "THPT2021['hoa_hoc'] = pd.to_numeric(THPT2021['hoa_hoc'], errors='coerce')\n",
    "THPT2021['sinh_hoc'] = pd.to_numeric(THPT2021['sinh_hoc'], errors='coerce')\n",
    "THPT2021['lich_su'] = pd.to_numeric(THPT2021['lich_su'], errors='coerce')\n",
    "THPT2021['dia_li'] = pd.to_numeric(THPT2021['dia_li'], errors='coerce')\n",
    "THPT2021['gdcd'] = pd.to_numeric(THPT2021['gdcd'], errors='coerce')\n",
    "\n",
    "# Lọc những thí sinh có điểm ở môn Toán và Ngữ Văn, môn Ngoại Ngữ có hoặc không có, và các môn khác đều trống\n",
    "filtered_totnghiep_2021 = THPT2021[['sbd', 'toan', 'ngu_van', 'ngoai_ngu','vat_li', 'hoa_hoc', 'sinh_hoc', 'lich_su', 'dia_li', 'gdcd']]\n",
    "\n",
    "# Tạo một đối tượng ExcelWriter mới để lưu kết quả\n",
    "with pd.ExcelWriter(file_path1, engine='openpyxl', mode='a') as writer:\n",
    "    filtered_totnghiep_2021.to_excel(writer, sheet_name='File_new', index=False)"
   ]
  },
  {
   "cell_type": "code",
   "execution_count": null,
   "id": "36360151-c974-466c-b2d0-b4f19d254dad",
   "metadata": {},
   "outputs": [],
   "source": []
  }
 ],
 "metadata": {
  "kernelspec": {
   "display_name": "Python 3 (ipykernel)",
   "language": "python",
   "name": "python3"
  },
  "language_info": {
   "codemirror_mode": {
    "name": "ipython",
    "version": 3
   },
   "file_extension": ".py",
   "mimetype": "text/x-python",
   "name": "python",
   "nbconvert_exporter": "python",
   "pygments_lexer": "ipython3",
   "version": "3.12.4"
  }
 },
 "nbformat": 4,
 "nbformat_minor": 5
}
