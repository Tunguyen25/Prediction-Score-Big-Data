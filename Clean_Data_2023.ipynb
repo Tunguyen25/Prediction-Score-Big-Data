{
 "cells": [
  {
   "cell_type": "code",
   "execution_count": 2,
   "id": "c87376be-f989-46ee-b331-601fcfda0ffa",
   "metadata": {},
   "outputs": [],
   "source": [
    "import pandas as pd"
   ]
  },
  {
   "cell_type": "code",
   "execution_count": 4,
   "id": "7f75aba1-3990-4d01-a62e-579b808ea18c",
   "metadata": {},
   "outputs": [],
   "source": [
    "file = 'ThiTNTHPT2023.xlsx'\n",
    "THPT2023 = pd.read_excel(file)"
   ]
  },
  {
   "cell_type": "code",
   "execution_count": 6,
   "id": "2c8fd4a3-918a-4282-9322-553fc6b29b7b",
   "metadata": {},
   "outputs": [],
   "source": [
    "# chon column minh muon\n",
    "mon_tot_nghiep = ['sbd', 'toan', 'ngu_van', 'ngoai_ngu']\n",
    "mon_khac = ['vat_li', 'hoa_hoc', 'sinh_hoc', 'lich_su', 'dia_li', 'gdcd']\n",
    "\n",
    "# Filter the DataFrame to include only students with scores in Math, Vietnamese, and English\n",
    "# and no scores in the other subjects\n",
    "filtered_totnghiep_2023 = THPT2023[(THPT2023['toan'].notna()) & \n",
    "                 (THPT2023['ngu_van'].notna()) & \n",
    "                 (THPT2023['ngoai_ngu'].isna() | THPT2023['ngoai_ngu'].notna()) &\n",
    "                 THPT2023[mon_khac].isna().all(axis=1)]\n",
    "\n",
    "# Create a new Excel writer object\n",
    "with pd.ExcelWriter(file, engine='openpyxl', mode='a') as writer:\n",
    "    filtered_totnghiep_2023.to_excel(writer, sheet_name='tot_nghiep', index=False)"
   ]
  },
  {
   "cell_type": "code",
   "execution_count": 7,
   "id": "d7102c3d-b870-48ef-aa2b-9de49fa3ff63",
   "metadata": {},
   "outputs": [],
   "source": [
    "# chon column minh muon\n",
    "khtn = ['sbd', 'toan', 'ngu_van','ngoai_ngu','vat_li', 'hoa_hoc', 'sinh_hoc']\n",
    "mon_khac1 = ['lich_su', 'dia_li', 'gdcd']\n",
    "\n",
    "\n",
    "filtered_KHTN_2023 = THPT2023[(THPT2023['toan'].notna()) & \n",
    "                 (THPT2023['ngu_van'].notna()) & \n",
    "                 (THPT2023['vat_li'].notna()) & \n",
    "                 (THPT2023['hoa_hoc'].notna()) & \n",
    "                 (THPT2023['sinh_hoc'].notna()) &\n",
    "                 (THPT2023['ngoai_ngu'].isna() | THPT2023['ngoai_ngu'].notna()) &\n",
    "                 THPT2023[mon_khac1].isna().all(axis=1)]\n",
    "\n",
    "# Create a new Excel writer object\n",
    "with pd.ExcelWriter(file, engine='openpyxl', mode='a') as writer:\n",
    "    filtered_KHTN_2023.to_excel(writer, sheet_name='khtn', index=False)"
   ]
  },
  {
   "cell_type": "code",
   "execution_count": 8,
   "id": "83bbe97e-4c6f-496d-8f7f-e94cfcb8973b",
   "metadata": {},
   "outputs": [
    {
     "name": "stderr",
     "output_type": "stream",
     "text": [
      "Exception ignored in: <function ZipFile.__del__ at 0x104d2ade0>\n",
      "Traceback (most recent call last):\n",
      "  File \"/opt/anaconda3/lib/python3.12/zipfile/__init__.py\", line 1938, in __del__\n",
      "    def __del__(self):\n",
      "\n",
      "KeyboardInterrupt: \n"
     ]
    }
   ],
   "source": [
    "# chon column minh muon\n",
    "khxh = ['sbd', 'toan', 'ngu_van','ngoai_ngu','lich_su', 'dia_li', 'gdcd']\n",
    "mon_khac2 = ['vat_li', 'hoa_hoc', 'sinh_hoc']\n",
    "\n",
    "\n",
    "filtered_KHXH_2023 = THPT2023[(THPT2023['toan'].notna()) & \n",
    "                 (THPT2023['ngu_van'].notna()) & \n",
    "                 (THPT2023['lich_su'].notna()) & \n",
    "                 (THPT2023['dia_li'].notna()) & \n",
    "                 (THPT2023['gdcd'].notna()) &\n",
    "                 (THPT2023['ngoai_ngu'].isna() | THPT2023['ngoai_ngu'].notna()) &\n",
    "                 THPT2023[mon_khac2].isna().all(axis=1)]\n",
    "\n",
    "# Create a new Excel writer object\n",
    "with pd.ExcelWriter(file, engine='openpyxl', mode='a') as writer:\n",
    "    filtered_KHXH_2023.to_excel(writer, sheet_name='khxh', index=False)"
   ]
  },
  {
   "cell_type": "code",
   "execution_count": null,
   "id": "4c74fe1e-bd39-4ddc-af90-afe19a18c752",
   "metadata": {},
   "outputs": [],
   "source": []
  }
 ],
 "metadata": {
  "kernelspec": {
   "display_name": "Python 3 (ipykernel)",
   "language": "python",
   "name": "python3"
  },
  "language_info": {
   "codemirror_mode": {
    "name": "ipython",
    "version": 3
   },
   "file_extension": ".py",
   "mimetype": "text/x-python",
   "name": "python",
   "nbconvert_exporter": "python",
   "pygments_lexer": "ipython3",
   "version": "3.12.4"
  }
 },
 "nbformat": 4,
 "nbformat_minor": 5
}
