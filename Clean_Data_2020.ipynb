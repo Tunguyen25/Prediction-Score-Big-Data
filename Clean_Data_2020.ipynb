{
 "cells": [
  {
   "cell_type": "code",
   "execution_count": 2,
   "id": "fea95678-6d32-4943-9dc2-c0fa35920ff2",
   "metadata": {},
   "outputs": [],
   "source": [
    "import pandas as pd"
   ]
  },
  {
   "cell_type": "code",
   "execution_count": 4,
   "id": "02802758-d96a-46fb-b04f-f27af8a95987",
   "metadata": {},
   "outputs": [
    {
     "data": {
      "text/plain": [
       "Index(['sbd', 'dia_li', 'gdcd', 'hoa_hoc', 'lich_su', 'ngoai_ngu', 'ngu_van',\n",
       "       'sinh_hoc', 'toan', 'vat_li'],\n",
       "      dtype='object')"
      ]
     },
     "execution_count": 4,
     "metadata": {},
     "output_type": "execute_result"
    }
   ],
   "source": [
    "file_path1 = 'ThiTNTHPT2020.xlsx'\n",
    "THPT2020 = pd.read_excel(file_path1)\n",
    "# THPT2020.columns\n",
    "# chon column minh muon\n",
    "mon_tot_nghiep = ['sbd', 'toan', 'ngu_van', 'ngoai_ngu']\n",
    "mon_khac = ['vat_li', 'hoa_hoc', 'sinh_hoc', 'lich_su', 'dia_li', 'gdcd']\n",
    "\n",
    "# Lọc những thí sinh có điểm ở môn Toán và Ngữ Văn, môn Ngoại Ngữ có hoặc không có, và các môn khác đều trống\n",
    "filtered_totnghiep_2020 = THPT2020[(THPT2020['toan'].notna()) & \n",
    "                                   (THPT2020['ngu_van'].notna()) & \n",
    "                                   (THPT2020[mon_khac].isna().all(axis=1))]\n",
    "\n",
    "# Tạo một đối tượng ExcelWriter mới để lưu kết quả\n",
    "with pd.ExcelWriter(file_path1, engine='openpyxl', mode='a') as writer:\n",
    "    filtered_totnghiep_2020.to_excel(writer, sheet_name='tot_nghiep', index=False)"
   ]
  },
  {
   "cell_type": "code",
   "execution_count": 39,
   "id": "cc1db8cb-83cc-493c-be31-c4e8e931153f",
   "metadata": {},
   "outputs": [],
   "source": [
    "# chon column minh muon\n",
    "khtn = ['sbd', 'toan', 'vat_li', 'hoa_hoc', 'sinh_hoc', 'ngu_van', 'ngoai_ngu']\n",
    "mon_khac1 = ['lich_su', 'dia_li', 'gdcd']\n",
    "\n",
    "\n",
    "filtered_KHTN_2020 = THPT2020[(THPT2020['toan'].notna()) & \n",
    "                 (THPT2020['vat_li'].notna()) & \n",
    "                 (THPT2020['hoa_hoc'].notna()) & \n",
    "                 (THPT2020['sinh_hoc'].notna()) &\n",
    "                 (THPT2020['ngu_van'].notna()) & \n",
    "                 (THPT2020[mon_khac1].isna().all(axis=1))]\n",
    "\n",
    "# Create a new Excel writer object\n",
    "with pd.ExcelWriter(file_path1, engine='openpyxl', mode='a') as writer:\n",
    "    filtered_KHTN_2020.to_excel(writer, sheet_name='khtn', index=False)\n",
    "    "
   ]
  },
  {
   "cell_type": "code",
   "execution_count": 43,
   "id": "926827cd-f0b9-4041-b8f8-e7a6b6a4e5b3",
   "metadata": {},
   "outputs": [],
   "source": [
    "# chon column minh muon\n",
    "khxh = ['sbd', 'toan', 'lich_su', 'dia_li', 'gdcd', 'ngu_van', 'ngoai_ngu']\n",
    "mon_khac2 = ['vat_li', 'hoa_hoc', 'sinh_hoc']\n",
    "\n",
    "\n",
    "filtered_KHXH_2020 = THPT2020[(THPT2020['toan'].notna()) & \n",
    "                 (THPT2020['lich_su'].notna()) & \n",
    "                 (THPT2020['dia_li'].notna()) & \n",
    "                 (THPT2020['gdcd'].notna()) &\n",
    "                 (THPT2020['ngu_van'].notna()) & \n",
    "                 (THPT2020[mon_khac2].isna().all(axis=1))]\n",
    "\n",
    "# Create a new Excel writer object\n",
    "with pd.ExcelWriter(file_path1, engine='openpyxl', mode='a') as writer:\n",
    "    filtered_KHXH_2020.to_excel(writer, sheet_name='khxh', index=False)\n",
    "    "
   ]
  },
  {
   "cell_type": "code",
   "execution_count": 2,
   "id": "7a8e2801-cdad-449b-a524-b7a3cc148061",
   "metadata": {},
   "outputs": [
    {
     "data": {
      "text/html": [
       "<div>\n",
       "<style scoped>\n",
       "    .dataframe tbody tr th:only-of-type {\n",
       "        vertical-align: middle;\n",
       "    }\n",
       "\n",
       "    .dataframe tbody tr th {\n",
       "        vertical-align: top;\n",
       "    }\n",
       "\n",
       "    .dataframe thead th {\n",
       "        text-align: right;\n",
       "    }\n",
       "</style>\n",
       "<table border=\"1\" class=\"dataframe\">\n",
       "  <thead>\n",
       "    <tr style=\"text-align: right;\">\n",
       "      <th></th>\n",
       "      <th>Thi TNTHPT</th>\n",
       "      <th>Thi ban KHTN</th>\n",
       "      <th>Thi ban KHXH</th>\n",
       "    </tr>\n",
       "    <tr>\n",
       "      <th>Năm</th>\n",
       "      <th></th>\n",
       "      <th></th>\n",
       "      <th></th>\n",
       "    </tr>\n",
       "  </thead>\n",
       "  <tbody>\n",
       "    <tr>\n",
       "      <th>2020</th>\n",
       "      <td>0.000000</td>\n",
       "      <td>0.000000</td>\n",
       "      <td>0.000000</td>\n",
       "    </tr>\n",
       "    <tr>\n",
       "      <th>2021</th>\n",
       "      <td>-25.886076</td>\n",
       "      <td>-4.526000</td>\n",
       "      <td>-15.476310</td>\n",
       "    </tr>\n",
       "    <tr>\n",
       "      <th>2022</th>\n",
       "      <td>60.204953</td>\n",
       "      <td>-1.992408</td>\n",
       "      <td>12.891082</td>\n",
       "    </tr>\n",
       "    <tr>\n",
       "      <th>2023</th>\n",
       "      <td>-33.955224</td>\n",
       "      <td>1.614213</td>\n",
       "      <td>2.012489</td>\n",
       "    </tr>\n",
       "    <tr>\n",
       "      <th>2024</th>\n",
       "      <td>44.471348</td>\n",
       "      <td>4.082709</td>\n",
       "      <td>1.463600</td>\n",
       "    </tr>\n",
       "  </tbody>\n",
       "</table>\n",
       "</div>"
      ],
      "text/plain": [
       "      Thi TNTHPT  Thi ban KHTN  Thi ban KHXH\n",
       "Năm                                         \n",
       "2020    0.000000      0.000000      0.000000\n",
       "2021  -25.886076     -4.526000    -15.476310\n",
       "2022   60.204953     -1.992408     12.891082\n",
       "2023  -33.955224      1.614213      2.012489\n",
       "2024   44.471348      4.082709      1.463600"
      ]
     },
     "execution_count": 2,
     "metadata": {},
     "output_type": "execute_result"
    }
   ],
   "source": [
    "import pandas as pd\n",
    "\n",
    "# Dữ liệu đã cho\n",
    "data = {\n",
    "    \"Năm\": [2020, 2021, 2022, 2023, 2024],\n",
    "    \"Thi TNTHPT\": [4740, 3513, 5628, 3717, 5370],\n",
    "    \"Thi ban KHTN\": [336920, 321671, 315262, 320351, 333430],\n",
    "    \"Thi ban KHXH\": [579854, 490114, 553295, 564430, 572691]\n",
    "}\n",
    "\n",
    "# Tạo DataFrame\n",
    "df = pd.DataFrame(data)\n",
    "\n",
    "# Tính phần trăm thay đổi so với năm trước cho mỗi cột\n",
    "df_pct_change = df.set_index(\"Năm\").pct_change() * 100\n",
    "\n",
    "# Điền giá trị NaN bằng 0 (do năm đầu tiên không có năm trước để so sánh)\n",
    "df_pct_change.fillna(0, inplace=True)\n",
    "\n",
    "df_pct_change\n"
   ]
  },
  {
   "cell_type": "code",
   "execution_count": null,
   "id": "253e8411-0a6e-411c-b2fd-6351fcd8bb30",
   "metadata": {},
   "outputs": [],
   "source": []
  }
 ],
 "metadata": {
  "kernelspec": {
   "display_name": "Python 3 (ipykernel)",
   "language": "python",
   "name": "python3"
  },
  "language_info": {
   "codemirror_mode": {
    "name": "ipython",
    "version": 3
   },
   "file_extension": ".py",
   "mimetype": "text/x-python",
   "name": "python",
   "nbconvert_exporter": "python",
   "pygments_lexer": "ipython3",
   "version": "3.12.4"
  }
 },
 "nbformat": 4,
 "nbformat_minor": 5
}
