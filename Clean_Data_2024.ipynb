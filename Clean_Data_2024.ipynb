{
 "cells": [
  {
   "cell_type": "code",
   "execution_count": 3,
   "id": "6abf4bf0-620d-439c-8bca-a71609f6bd1c",
   "metadata": {},
   "outputs": [],
   "source": [
    "import pandas as pd"
   ]
  },
  {
   "cell_type": "code",
   "execution_count": 5,
   "id": "cf2bdde8-9e19-4b71-898b-10516cfcdfc1",
   "metadata": {},
   "outputs": [],
   "source": [
    "file = 'ThiTNTHPT2024.xlsx'\n",
    "THPT2024 = pd.read_excel(file)"
   ]
  },
  {
   "cell_type": "code",
   "execution_count": 6,
   "id": "2f05a35c-141e-40ab-930c-b2ef41391220",
   "metadata": {},
   "outputs": [],
   "source": [
    "# chon column minh muon\n",
    "mon_tot_nghiep = ['sbd', 'toan', 'ngu_van', 'ngoai_ngu']\n",
    "mon_khac = ['vat_li', 'hoa_hoc', 'sinh_hoc', 'lich_su', 'dia_li', 'gdcd']\n",
    "\n",
    "# Filter the DataFrame to include only students with scores in Math, Vietnamese, and English\n",
    "# and no scores in the other subjects\n",
    "filtered_totnghiep_2024 = THPT2024[(THPT2024['toan'].notna()) & \n",
    "                 (THPT2024['ngu_van'].notna()) & \n",
    "                 (THPT2024['ngoai_ngu'].isna() | THPT2024['ngoai_ngu'].notna()) &\n",
    "                 THPT2024[mon_khac].isna().all(axis=1)]\n",
    "\n",
    "# Create a new Excel writer object\n",
    "with pd.ExcelWriter(file, engine='openpyxl', mode='a') as writer:\n",
    "    filtered_totnghiep_2024.to_excel(writer, sheet_name='tot_nghiep', index=False)"
   ]
  },
  {
   "cell_type": "code",
   "execution_count": 7,
   "id": "70ac696f-8534-4e64-83a0-aab31c5e92c8",
   "metadata": {},
   "outputs": [],
   "source": [
    "# chon column minh muon\n",
    "khtn = ['sbd', 'toan', 'ngu_van','ngoai_ngu','vat_li', 'hoa_hoc', 'sinh_hoc']\n",
    "mon_khac1 = ['lich_su', 'dia_li', 'gdcd']\n",
    "\n",
    "\n",
    "filtered_KHTN_2024 = THPT2024[(THPT2024['toan'].notna()) & \n",
    "                 (THPT2024['ngu_van'].notna()) & \n",
    "                 (THPT2024['vat_li'].notna()) & \n",
    "                 (THPT2024['hoa_hoc'].notna()) & \n",
    "                 (THPT2024['sinh_hoc'].notna()) &\n",
    "                 (THPT2024['ngoai_ngu'].isna() | THPT2024['ngoai_ngu'].notna()) &\n",
    "                 THPT2024[mon_khac1].isna().all(axis=1)]\n",
    "\n",
    "# Create a new Excel writer object\n",
    "with pd.ExcelWriter(file, engine='openpyxl', mode='a') as writer:\n",
    "    filtered_KHTN_2024.to_excel(writer, sheet_name='khtn', index=False)"
   ]
  },
  {
   "cell_type": "code",
   "execution_count": 10,
   "id": "8fcfac1e-6f75-4b0e-9bf1-b404f23f9d1b",
   "metadata": {},
   "outputs": [],
   "source": [
    "# chon column minh muon\n",
    "khxh = ['sbd', 'toan', 'ngu_van','ngoai_ngu','lich_su', 'dia_li', 'gdcd']\n",
    "mon_khac2 = ['vat_li', 'hoa_hoc', 'sinh_hoc']\n",
    "\n",
    "\n",
    "filtered_KHXH_2024 = THPT2024[(THPT2024['toan'].notna()) & \n",
    "                 (THPT2024['ngu_van'].notna()) & \n",
    "                 (THPT2024['lich_su'].notna()) & \n",
    "                 (THPT2024['dia_li'].notna()) & \n",
    "                 (THPT2024['gdcd'].notna()) &\n",
    "                 (THPT2024['ngoai_ngu'].isna() | THPT2024['ngoai_ngu'].notna()) &\n",
    "                 THPT2024[mon_khac2].isna().all(axis=1)]\n",
    "\n",
    "# Create a new Excel writer object\n",
    "with pd.ExcelWriter(file, engine='openpyxl', mode='a') as writer:\n",
    "    filtered_KHXH_2024.to_excel(writer, sheet_name='khxh', index=False)\n"
   ]
  },
  {
   "cell_type": "code",
   "execution_count": null,
   "id": "fef551e3-d0ec-4eaf-922d-94059b9e6680",
   "metadata": {},
   "outputs": [],
   "source": []
  }
 ],
 "metadata": {
  "kernelspec": {
   "display_name": "Python 3 (ipykernel)",
   "language": "python",
   "name": "python3"
  },
  "language_info": {
   "codemirror_mode": {
    "name": "ipython",
    "version": 3
   },
   "file_extension": ".py",
   "mimetype": "text/x-python",
   "name": "python",
   "nbconvert_exporter": "python",
   "pygments_lexer": "ipython3",
   "version": "3.12.4"
  }
 },
 "nbformat": 4,
 "nbformat_minor": 5
}
